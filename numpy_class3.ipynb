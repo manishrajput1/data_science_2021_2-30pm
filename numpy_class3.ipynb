{
 "cells": [
  {
   "cell_type": "code",
   "execution_count": 6,
   "id": "01c16eff",
   "metadata": {},
   "outputs": [
    {
     "name": "stdout",
     "output_type": "stream",
     "text": [
      "['0b10', '0b1001', '0b1000', '0b100', '0b1', '0b101', '0b111']\n"
     ]
    }
   ],
   "source": [
    "l=[2,9,8,4,1,5,7]\n",
    "l1=[]\n",
    "for i in l:\n",
    "    l1.append(bin(i))\n",
    "print(l1)"
   ]
  },
  {
   "cell_type": "code",
   "execution_count": 8,
   "id": "3e227c1f",
   "metadata": {},
   "outputs": [],
   "source": [
    "l1\n",
    "l2=[]\n",
    "for i in l1:\n",
    "    p=i.count('1')\n",
    "    l2.append(p)"
   ]
  },
  {
   "cell_type": "code",
   "execution_count": 3,
   "id": "ca50b0e1",
   "metadata": {},
   "outputs": [
    {
     "data": {
      "text/plain": [
       "[2, 2, 4, 1]"
      ]
     },
     "execution_count": 3,
     "metadata": {},
     "output_type": "execute_result"
    }
   ],
   "source": [
    "l"
   ]
  },
  {
   "cell_type": "code",
   "execution_count": 9,
   "id": "59eac0a0",
   "metadata": {},
   "outputs": [
    {
     "data": {
      "text/plain": [
       "['0b10', '0b1001', '0b1000', '0b100', '0b1', '0b101', '0b111']"
      ]
     },
     "execution_count": 9,
     "metadata": {},
     "output_type": "execute_result"
    }
   ],
   "source": [
    "l1"
   ]
  },
  {
   "cell_type": "code",
   "execution_count": 10,
   "id": "bdba7cf6",
   "metadata": {},
   "outputs": [
    {
     "data": {
      "text/plain": [
       "[1, 2, 1, 1, 1, 2, 3]"
      ]
     },
     "execution_count": 10,
     "metadata": {},
     "output_type": "execute_result"
    }
   ],
   "source": [
    "l2"
   ]
  },
  {
   "cell_type": "code",
   "execution_count": 11,
   "id": "370b917b",
   "metadata": {},
   "outputs": [
    {
     "data": {
      "text/plain": [
       "[2, 9, 8, 4, 1, 5, 7]"
      ]
     },
     "execution_count": 11,
     "metadata": {},
     "output_type": "execute_result"
    }
   ],
   "source": [
    "l"
   ]
  },
  {
   "cell_type": "code",
   "execution_count": 14,
   "id": "f1498c6e",
   "metadata": {},
   "outputs": [],
   "source": [
    "data=[]\n",
    "for i,j in zip(l2,l):\n",
    "    data.append((i,j))"
   ]
  },
  {
   "cell_type": "code",
   "execution_count": 16,
   "id": "e4d07476",
   "metadata": {},
   "outputs": [],
   "source": [
    "data.sort()"
   ]
  },
  {
   "cell_type": "code",
   "execution_count": 17,
   "id": "be3a20b0",
   "metadata": {},
   "outputs": [
    {
     "data": {
      "text/plain": [
       "[(1, 1), (1, 2), (1, 4), (1, 8), (2, 5), (2, 9), (3, 7)]"
      ]
     },
     "execution_count": 17,
     "metadata": {},
     "output_type": "execute_result"
    }
   ],
   "source": [
    "data"
   ]
  },
  {
   "cell_type": "code",
   "execution_count": 18,
   "id": "8c4da7cd",
   "metadata": {},
   "outputs": [],
   "source": [
    "p=[]\n",
    "for i in data:\n",
    "    p.append(i[1])"
   ]
  },
  {
   "cell_type": "code",
   "execution_count": 19,
   "id": "4a6e75e4",
   "metadata": {},
   "outputs": [
    {
     "data": {
      "text/plain": [
       "[1, 2, 4, 8, 5, 9, 7]"
      ]
     },
     "execution_count": 19,
     "metadata": {},
     "output_type": "execute_result"
    }
   ],
   "source": [
    "p"
   ]
  },
  {
   "cell_type": "code",
   "execution_count": 23,
   "id": "1a313e81",
   "metadata": {},
   "outputs": [
    {
     "name": "stdout",
     "output_type": "stream",
     "text": [
      "|*||*||*||*||*||*|\n",
      "|*||*||*||*||*||*|\n",
      "|*||*||*||*||*||*|\n",
      "|*||*||*||*||*||*|\n",
      "|*||*||*||*||*||*|\n",
      "|*||*||*||*||*||*|\n"
     ]
    }
   ],
   "source": [
    "for i in range(6):\n",
    "    for j in range(6):\n",
    "        print('|*|',end='')\n",
    "    print() \n",
    "    "
   ]
  },
  {
   "cell_type": "code",
   "execution_count": 25,
   "id": "e6aa1618",
   "metadata": {},
   "outputs": [
    {
     "name": "stdout",
     "output_type": "stream",
     "text": [
      "######\n",
      "######\n",
      "######\n",
      "####*#\n",
      "######\n",
      "######\n"
     ]
    }
   ],
   "source": [
    "for i in range(6):\n",
    "    for j in range(6):\n",
    "        if i==3 and j==4:\n",
    "            print('*',end='')\n",
    "        else:\n",
    "            print(end='#')\n",
    "    print()\n",
    "    "
   ]
  },
  {
   "cell_type": "code",
   "execution_count": 26,
   "id": "bfe541f4",
   "metadata": {},
   "outputs": [],
   "source": [
    "print?"
   ]
  },
  {
   "cell_type": "code",
   "execution_count": 30,
   "id": "3c3d0ac4",
   "metadata": {},
   "outputs": [
    {
     "name": "stdout",
     "output_type": "stream",
     "text": [
      "********\n",
      "********\n",
      "********\n",
      "********\n",
      "********\n"
     ]
    }
   ],
   "source": [
    "for i in range(5):\n",
    "    for j in range(8):\n",
    "        print('*',end='')\n",
    "    print()"
   ]
  },
  {
   "cell_type": "code",
   "execution_count": 38,
   "id": "c83cbcd3",
   "metadata": {},
   "outputs": [
    {
     "name": "stdout",
     "output_type": "stream",
     "text": [
      "*   * * * \n",
      "*   *     \n",
      "* * * * * \n",
      "    *   * \n",
      "* * *   * \n"
     ]
    }
   ],
   "source": [
    "for i in range(5):\n",
    "    for j in range(5):\n",
    "        if j==2 or i==2 or (i==0 and j>2) or (j==4 and i>2) or (j==0 and i<2) or (i==4 and j<2):\n",
    "            print('*',end=' ')\n",
    "        else:\n",
    "            print(end='  ')\n",
    "    print()"
   ]
  },
  {
   "cell_type": "code",
   "execution_count": 41,
   "id": "3790cf35",
   "metadata": {},
   "outputs": [
    {
     "name": "stdout",
     "output_type": "stream",
     "text": [
      "*     *\n",
      " *   * \n",
      "  * *  \n",
      "   *   \n",
      "  * *  \n",
      " *   * \n",
      "*     *\n"
     ]
    }
   ],
   "source": [
    "for i in range(7):\n",
    "    for j in range(7):\n",
    "        if i==j or j+i==6:\n",
    "            print('*',end='')\n",
    "        else:\n",
    "            print(end=' ')\n",
    "    print()"
   ]
  },
  {
   "cell_type": "code",
   "execution_count": 42,
   "id": "f6599c76",
   "metadata": {},
   "outputs": [],
   "source": [
    " def pattern_match(d,q):\n",
    "        l=[]\n",
    "        for i in q:\n",
    "            c=0\n",
    "            for j in d:\n",
    "                if sorted(j)==sorted(i):\n",
    "                    c+=1\n",
    "            l.append(c)\n",
    "        return l\n",
    "                    "
   ]
  },
  {
   "cell_type": "code",
   "execution_count": 43,
   "id": "77fb414e",
   "metadata": {},
   "outputs": [
    {
     "data": {
      "text/plain": [
       "[2, 2, 0, 3, 1]"
      ]
     },
     "execution_count": 43,
     "metadata": {},
     "output_type": "execute_result"
    }
   ],
   "source": [
    "pattern_match(['hack','a','rank','khac','ackh','kran','rankhacker','a','ab','ba','stairs','raits'],['a','nark','bs','hack','stair'])"
   ]
  },
  {
   "cell_type": "code",
   "execution_count": 44,
   "id": "6d4df723",
   "metadata": {},
   "outputs": [],
   "source": [
    "# hstack\n",
    "# vstack\n"
   ]
  },
  {
   "cell_type": "code",
   "execution_count": 45,
   "id": "e0db5f74",
   "metadata": {},
   "outputs": [],
   "source": [
    "import numpy as np\n",
    "l=np.arange(12).reshape(4,3)\n",
    "l1=np.arange(12,24).reshape(4,3)"
   ]
  },
  {
   "cell_type": "code",
   "execution_count": 46,
   "id": "a85b60f9",
   "metadata": {},
   "outputs": [
    {
     "data": {
      "text/plain": [
       "array([[ 0,  1,  2],\n",
       "       [ 3,  4,  5],\n",
       "       [ 6,  7,  8],\n",
       "       [ 9, 10, 11]])"
      ]
     },
     "execution_count": 46,
     "metadata": {},
     "output_type": "execute_result"
    }
   ],
   "source": [
    "l"
   ]
  },
  {
   "cell_type": "code",
   "execution_count": 48,
   "id": "f633a4e8",
   "metadata": {},
   "outputs": [
    {
     "data": {
      "text/plain": [
       "array([[12, 13, 14],\n",
       "       [15, 16, 17],\n",
       "       [18, 19, 20],\n",
       "       [21, 22, 23]])"
      ]
     },
     "execution_count": 48,
     "metadata": {},
     "output_type": "execute_result"
    }
   ],
   "source": [
    "l1"
   ]
  },
  {
   "cell_type": "code",
   "execution_count": 50,
   "id": "c4da8fd6",
   "metadata": {},
   "outputs": [
    {
     "data": {
      "text/plain": [
       "array([[ 0,  1,  2],\n",
       "       [ 3,  4,  5],\n",
       "       [ 6,  7,  8],\n",
       "       [ 9, 10, 11],\n",
       "       [12, 13, 14],\n",
       "       [15, 16, 17],\n",
       "       [18, 19, 20],\n",
       "       [21, 22, 23]])"
      ]
     },
     "execution_count": 50,
     "metadata": {},
     "output_type": "execute_result"
    }
   ],
   "source": [
    "np.vstack([l,l1])"
   ]
  },
  {
   "cell_type": "code",
   "execution_count": 51,
   "id": "9b526895",
   "metadata": {},
   "outputs": [
    {
     "data": {
      "text/plain": [
       "array([[ 0,  1,  2, 12, 13, 14],\n",
       "       [ 3,  4,  5, 15, 16, 17],\n",
       "       [ 6,  7,  8, 18, 19, 20],\n",
       "       [ 9, 10, 11, 21, 22, 23]])"
      ]
     },
     "execution_count": 51,
     "metadata": {},
     "output_type": "execute_result"
    }
   ],
   "source": [
    "np.hstack([l,l1])"
   ]
  },
  {
   "cell_type": "code",
   "execution_count": 59,
   "id": "4879f1dd",
   "metadata": {},
   "outputs": [],
   "source": [
    "l=np.linspace(1,10,950)"
   ]
  },
  {
   "cell_type": "code",
   "execution_count": 60,
   "id": "3464adf5",
   "metadata": {},
   "outputs": [
    {
     "data": {
      "text/plain": [
       "2.6008124693116326"
      ]
     },
     "execution_count": 60,
     "metadata": {},
     "output_type": "execute_result"
    }
   ],
   "source": [
    "np.std(l)"
   ]
  },
  {
   "cell_type": "code",
   "execution_count": 61,
   "id": "0e74eebd",
   "metadata": {},
   "outputs": [
    {
     "data": {
      "text/plain": [
       "array([ 1.        ,  1.00948367,  1.01896733,  1.028451  ,  1.03793467,\n",
       "        1.04741834,  1.056902  ,  1.06638567,  1.07586934,  1.085353  ,\n",
       "        1.09483667,  1.10432034,  1.113804  ,  1.12328767,  1.13277134,\n",
       "        1.14225501,  1.15173867,  1.16122234,  1.17070601,  1.18018967,\n",
       "        1.18967334,  1.19915701,  1.20864067,  1.21812434,  1.22760801,\n",
       "        1.23709168,  1.24657534,  1.25605901,  1.26554268,  1.27502634,\n",
       "        1.28451001,  1.29399368,  1.30347734,  1.31296101,  1.32244468,\n",
       "        1.33192835,  1.34141201,  1.35089568,  1.36037935,  1.36986301,\n",
       "        1.37934668,  1.38883035,  1.39831401,  1.40779768,  1.41728135,\n",
       "        1.42676502,  1.43624868,  1.44573235,  1.45521602,  1.46469968,\n",
       "        1.47418335,  1.48366702,  1.49315068,  1.50263435,  1.51211802,\n",
       "        1.52160169,  1.53108535,  1.54056902,  1.55005269,  1.55953635,\n",
       "        1.56902002,  1.57850369,  1.58798736,  1.59747102,  1.60695469,\n",
       "        1.61643836,  1.62592202,  1.63540569,  1.64488936,  1.65437302,\n",
       "        1.66385669,  1.67334036,  1.68282403,  1.69230769,  1.70179136,\n",
       "        1.71127503,  1.72075869,  1.73024236,  1.73972603,  1.74920969,\n",
       "        1.75869336,  1.76817703,  1.7776607 ,  1.78714436,  1.79662803,\n",
       "        1.8061117 ,  1.81559536,  1.82507903,  1.8345627 ,  1.84404636,\n",
       "        1.85353003,  1.8630137 ,  1.87249737,  1.88198103,  1.8914647 ,\n",
       "        1.90094837,  1.91043203,  1.9199157 ,  1.92939937,  1.93888303,\n",
       "        1.9483667 ,  1.95785037,  1.96733404,  1.9768177 ,  1.98630137,\n",
       "        1.99578504,  2.0052687 ,  2.01475237,  2.02423604,  2.0337197 ,\n",
       "        2.04320337,  2.05268704,  2.06217071,  2.07165437,  2.08113804,\n",
       "        2.09062171,  2.10010537,  2.10958904,  2.11907271,  2.12855638,\n",
       "        2.13804004,  2.14752371,  2.15700738,  2.16649104,  2.17597471,\n",
       "        2.18545838,  2.19494204,  2.20442571,  2.21390938,  2.22339305,\n",
       "        2.23287671,  2.24236038,  2.25184405,  2.26132771,  2.27081138,\n",
       "        2.28029505,  2.28977871,  2.29926238,  2.30874605,  2.31822972,\n",
       "        2.32771338,  2.33719705,  2.34668072,  2.35616438,  2.36564805,\n",
       "        2.37513172,  2.38461538,  2.39409905,  2.40358272,  2.41306639,\n",
       "        2.42255005,  2.43203372,  2.44151739,  2.45100105,  2.46048472,\n",
       "        2.46996839,  2.47945205,  2.48893572,  2.49841939,  2.50790306,\n",
       "        2.51738672,  2.52687039,  2.53635406,  2.54583772,  2.55532139,\n",
       "        2.56480506,  2.57428872,  2.58377239,  2.59325606,  2.60273973,\n",
       "        2.61222339,  2.62170706,  2.63119073,  2.64067439,  2.65015806,\n",
       "        2.65964173,  2.6691254 ,  2.67860906,  2.68809273,  2.6975764 ,\n",
       "        2.70706006,  2.71654373,  2.7260274 ,  2.73551106,  2.74499473,\n",
       "        2.7544784 ,  2.76396207,  2.77344573,  2.7829294 ,  2.79241307,\n",
       "        2.80189673,  2.8113804 ,  2.82086407,  2.83034773,  2.8398314 ,\n",
       "        2.84931507,  2.85879874,  2.8682824 ,  2.87776607,  2.88724974,\n",
       "        2.8967334 ,  2.90621707,  2.91570074,  2.9251844 ,  2.93466807,\n",
       "        2.94415174,  2.95363541,  2.96311907,  2.97260274,  2.98208641,\n",
       "        2.99157007,  3.00105374,  3.01053741,  3.02002107,  3.02950474,\n",
       "        3.03898841,  3.04847208,  3.05795574,  3.06743941,  3.07692308,\n",
       "        3.08640674,  3.09589041,  3.10537408,  3.11485774,  3.12434141,\n",
       "        3.13382508,  3.14330875,  3.15279241,  3.16227608,  3.17175975,\n",
       "        3.18124341,  3.19072708,  3.20021075,  3.20969442,  3.21917808,\n",
       "        3.22866175,  3.23814542,  3.24762908,  3.25711275,  3.26659642,\n",
       "        3.27608008,  3.28556375,  3.29504742,  3.30453109,  3.31401475,\n",
       "        3.32349842,  3.33298209,  3.34246575,  3.35194942,  3.36143309,\n",
       "        3.37091675,  3.38040042,  3.38988409,  3.39936776,  3.40885142,\n",
       "        3.41833509,  3.42781876,  3.43730242,  3.44678609,  3.45626976,\n",
       "        3.46575342,  3.47523709,  3.48472076,  3.49420443,  3.50368809,\n",
       "        3.51317176,  3.52265543,  3.53213909,  3.54162276,  3.55110643,\n",
       "        3.56059009,  3.57007376,  3.57955743,  3.5890411 ,  3.59852476,\n",
       "        3.60800843,  3.6174921 ,  3.62697576,  3.63645943,  3.6459431 ,\n",
       "        3.65542677,  3.66491043,  3.6743941 ,  3.68387777,  3.69336143,\n",
       "        3.7028451 ,  3.71232877,  3.72181243,  3.7312961 ,  3.74077977,\n",
       "        3.75026344,  3.7597471 ,  3.76923077,  3.77871444,  3.7881981 ,\n",
       "        3.79768177,  3.80716544,  3.8166491 ,  3.82613277,  3.83561644,\n",
       "        3.84510011,  3.85458377,  3.86406744,  3.87355111,  3.88303477,\n",
       "        3.89251844,  3.90200211,  3.91148577,  3.92096944,  3.93045311,\n",
       "        3.93993678,  3.94942044,  3.95890411,  3.96838778,  3.97787144,\n",
       "        3.98735511,  3.99683878,  4.00632244,  4.01580611,  4.02528978,\n",
       "        4.03477345,  4.04425711,  4.05374078,  4.06322445,  4.07270811,\n",
       "        4.08219178,  4.09167545,  4.10115911,  4.11064278,  4.12012645,\n",
       "        4.12961012,  4.13909378,  4.14857745,  4.15806112,  4.16754478,\n",
       "        4.17702845,  4.18651212,  4.19599579,  4.20547945,  4.21496312,\n",
       "        4.22444679,  4.23393045,  4.24341412,  4.25289779,  4.26238145,\n",
       "        4.27186512,  4.28134879,  4.29083246,  4.30031612,  4.30979979,\n",
       "        4.31928346,  4.32876712,  4.33825079,  4.34773446,  4.35721812,\n",
       "        4.36670179,  4.37618546,  4.38566913,  4.39515279,  4.40463646,\n",
       "        4.41412013,  4.42360379,  4.43308746,  4.44257113,  4.45205479,\n",
       "        4.46153846,  4.47102213,  4.4805058 ,  4.48998946,  4.49947313,\n",
       "        4.5089568 ,  4.51844046,  4.52792413,  4.5374078 ,  4.54689146,\n",
       "        4.55637513,  4.5658588 ,  4.57534247,  4.58482613,  4.5943098 ,\n",
       "        4.60379347,  4.61327713,  4.6227608 ,  4.63224447,  4.64172813,\n",
       "        4.6512118 ,  4.66069547,  4.67017914,  4.6796628 ,  4.68914647,\n",
       "        4.69863014,  4.7081138 ,  4.71759747,  4.72708114,  4.73656481,\n",
       "        4.74604847,  4.75553214,  4.76501581,  4.77449947,  4.78398314,\n",
       "        4.79346681,  4.80295047,  4.81243414,  4.82191781,  4.83140148,\n",
       "        4.84088514,  4.85036881,  4.85985248,  4.86933614,  4.87881981,\n",
       "        4.88830348,  4.89778714,  4.90727081,  4.91675448,  4.92623815,\n",
       "        4.93572181,  4.94520548,  4.95468915,  4.96417281,  4.97365648,\n",
       "        4.98314015,  4.99262381,  5.00210748,  5.01159115,  5.02107482,\n",
       "        5.03055848,  5.04004215,  5.04952582,  5.05900948,  5.06849315,\n",
       "        5.07797682,  5.08746048,  5.09694415,  5.10642782,  5.11591149,\n",
       "        5.12539515,  5.13487882,  5.14436249,  5.15384615,  5.16332982,\n",
       "        5.17281349,  5.18229715,  5.19178082,  5.20126449,  5.21074816,\n",
       "        5.22023182,  5.22971549,  5.23919916,  5.24868282,  5.25816649,\n",
       "        5.26765016,  5.27713383,  5.28661749,  5.29610116,  5.30558483,\n",
       "        5.31506849,  5.32455216,  5.33403583,  5.34351949,  5.35300316,\n",
       "        5.36248683,  5.3719705 ,  5.38145416,  5.39093783,  5.4004215 ,\n",
       "        5.40990516,  5.41938883,  5.4288725 ,  5.43835616,  5.44783983,\n",
       "        5.4573235 ,  5.46680717,  5.47629083,  5.4857745 ,  5.49525817,\n",
       "        5.50474183,  5.5142255 ,  5.52370917,  5.53319283,  5.5426765 ,\n",
       "        5.55216017,  5.56164384,  5.5711275 ,  5.58061117,  5.59009484,\n",
       "        5.5995785 ,  5.60906217,  5.61854584,  5.6280295 ,  5.63751317,\n",
       "        5.64699684,  5.65648051,  5.66596417,  5.67544784,  5.68493151,\n",
       "        5.69441517,  5.70389884,  5.71338251,  5.72286617,  5.73234984,\n",
       "        5.74183351,  5.75131718,  5.76080084,  5.77028451,  5.77976818,\n",
       "        5.78925184,  5.79873551,  5.80821918,  5.81770285,  5.82718651,\n",
       "        5.83667018,  5.84615385,  5.85563751,  5.86512118,  5.87460485,\n",
       "        5.88408851,  5.89357218,  5.90305585,  5.91253952,  5.92202318,\n",
       "        5.93150685,  5.94099052,  5.95047418,  5.95995785,  5.96944152,\n",
       "        5.97892518,  5.98840885,  5.99789252,  6.00737619,  6.01685985,\n",
       "        6.02634352,  6.03582719,  6.04531085,  6.05479452,  6.06427819,\n",
       "        6.07376185,  6.08324552,  6.09272919,  6.10221286,  6.11169652,\n",
       "        6.12118019,  6.13066386,  6.14014752,  6.14963119,  6.15911486,\n",
       "        6.16859852,  6.17808219,  6.18756586,  6.19704953,  6.20653319,\n",
       "        6.21601686,  6.22550053,  6.23498419,  6.24446786,  6.25395153,\n",
       "        6.26343519,  6.27291886,  6.28240253,  6.2918862 ,  6.30136986,\n",
       "        6.31085353,  6.3203372 ,  6.32982086,  6.33930453,  6.3487882 ,\n",
       "        6.35827187,  6.36775553,  6.3772392 ,  6.38672287,  6.39620653,\n",
       "        6.4056902 ,  6.41517387,  6.42465753,  6.4341412 ,  6.44362487,\n",
       "        6.45310854,  6.4625922 ,  6.47207587,  6.48155954,  6.4910432 ,\n",
       "        6.50052687,  6.51001054,  6.5194942 ,  6.52897787,  6.53846154,\n",
       "        6.54794521,  6.55742887,  6.56691254,  6.57639621,  6.58587987,\n",
       "        6.59536354,  6.60484721,  6.61433087,  6.62381454,  6.63329821,\n",
       "        6.64278188,  6.65226554,  6.66174921,  6.67123288,  6.68071654,\n",
       "        6.69020021,  6.69968388,  6.70916754,  6.71865121,  6.72813488,\n",
       "        6.73761855,  6.74710221,  6.75658588,  6.76606955,  6.77555321,\n",
       "        6.78503688,  6.79452055,  6.80400421,  6.81348788,  6.82297155,\n",
       "        6.83245522,  6.84193888,  6.85142255,  6.86090622,  6.87038988,\n",
       "        6.87987355,  6.88935722,  6.89884089,  6.90832455,  6.91780822,\n",
       "        6.92729189,  6.93677555,  6.94625922,  6.95574289,  6.96522655,\n",
       "        6.97471022,  6.98419389,  6.99367756,  7.00316122,  7.01264489,\n",
       "        7.02212856,  7.03161222,  7.04109589,  7.05057956,  7.06006322,\n",
       "        7.06954689,  7.07903056,  7.08851423,  7.09799789,  7.10748156,\n",
       "        7.11696523,  7.12644889,  7.13593256,  7.14541623,  7.15489989,\n",
       "        7.16438356,  7.17386723,  7.1833509 ,  7.19283456,  7.20231823,\n",
       "        7.2118019 ,  7.22128556,  7.23076923,  7.2402529 ,  7.24973656,\n",
       "        7.25922023,  7.2687039 ,  7.27818757,  7.28767123,  7.2971549 ,\n",
       "        7.30663857,  7.31612223,  7.3256059 ,  7.33508957,  7.34457323,\n",
       "        7.3540569 ,  7.36354057,  7.37302424,  7.3825079 ,  7.39199157,\n",
       "        7.40147524,  7.4109589 ,  7.42044257,  7.42992624,  7.43940991,\n",
       "        7.44889357,  7.45837724,  7.46786091,  7.47734457,  7.48682824,\n",
       "        7.49631191,  7.50579557,  7.51527924,  7.52476291,  7.53424658,\n",
       "        7.54373024,  7.55321391,  7.56269758,  7.57218124,  7.58166491,\n",
       "        7.59114858,  7.60063224,  7.61011591,  7.61959958,  7.62908325,\n",
       "        7.63856691,  7.64805058,  7.65753425,  7.66701791,  7.67650158,\n",
       "        7.68598525,  7.69546891,  7.70495258,  7.71443625,  7.72391992,\n",
       "        7.73340358,  7.74288725,  7.75237092,  7.76185458,  7.77133825,\n",
       "        7.78082192,  7.79030558,  7.79978925,  7.80927292,  7.81875659,\n",
       "        7.82824025,  7.83772392,  7.84720759,  7.85669125,  7.86617492,\n",
       "        7.87565859,  7.88514226,  7.89462592,  7.90410959,  7.91359326,\n",
       "        7.92307692,  7.93256059,  7.94204426,  7.95152792,  7.96101159,\n",
       "        7.97049526,  7.97997893,  7.98946259,  7.99894626,  8.00842993,\n",
       "        8.01791359,  8.02739726,  8.03688093,  8.04636459,  8.05584826,\n",
       "        8.06533193,  8.0748156 ,  8.08429926,  8.09378293,  8.1032666 ,\n",
       "        8.11275026,  8.12223393,  8.1317176 ,  8.14120126,  8.15068493,\n",
       "        8.1601686 ,  8.16965227,  8.17913593,  8.1886196 ,  8.19810327,\n",
       "        8.20758693,  8.2170706 ,  8.22655427,  8.23603793,  8.2455216 ,\n",
       "        8.25500527,  8.26448894,  8.2739726 ,  8.28345627,  8.29293994,\n",
       "        8.3024236 ,  8.31190727,  8.32139094,  8.3308746 ,  8.34035827,\n",
       "        8.34984194,  8.35932561,  8.36880927,  8.37829294,  8.38777661,\n",
       "        8.39726027,  8.40674394,  8.41622761,  8.42571128,  8.43519494,\n",
       "        8.44467861,  8.45416228,  8.46364594,  8.47312961,  8.48261328,\n",
       "        8.49209694,  8.50158061,  8.51106428,  8.52054795,  8.53003161,\n",
       "        8.53951528,  8.54899895,  8.55848261,  8.56796628,  8.57744995,\n",
       "        8.58693361,  8.59641728,  8.60590095,  8.61538462,  8.62486828,\n",
       "        8.63435195,  8.64383562,  8.65331928,  8.66280295,  8.67228662,\n",
       "        8.68177028,  8.69125395,  8.70073762,  8.71022129,  8.71970495,\n",
       "        8.72918862,  8.73867229,  8.74815595,  8.75763962,  8.76712329,\n",
       "        8.77660695,  8.78609062,  8.79557429,  8.80505796,  8.81454162,\n",
       "        8.82402529,  8.83350896,  8.84299262,  8.85247629,  8.86195996,\n",
       "        8.87144362,  8.88092729,  8.89041096,  8.89989463,  8.90937829,\n",
       "        8.91886196,  8.92834563,  8.93782929,  8.94731296,  8.95679663,\n",
       "        8.9662803 ,  8.97576396,  8.98524763,  8.9947313 ,  9.00421496,\n",
       "        9.01369863,  9.0231823 ,  9.03266596,  9.04214963,  9.0516333 ,\n",
       "        9.06111697,  9.07060063,  9.0800843 ,  9.08956797,  9.09905163,\n",
       "        9.1085353 ,  9.11801897,  9.12750263,  9.1369863 ,  9.14646997,\n",
       "        9.15595364,  9.1654373 ,  9.17492097,  9.18440464,  9.1938883 ,\n",
       "        9.20337197,  9.21285564,  9.2223393 ,  9.23182297,  9.24130664,\n",
       "        9.25079031,  9.26027397,  9.26975764,  9.27924131,  9.28872497,\n",
       "        9.29820864,  9.30769231,  9.31717597,  9.32665964,  9.33614331,\n",
       "        9.34562698,  9.35511064,  9.36459431,  9.37407798,  9.38356164,\n",
       "        9.39304531,  9.40252898,  9.41201264,  9.42149631,  9.43097998,\n",
       "        9.44046365,  9.44994731,  9.45943098,  9.46891465,  9.47839831,\n",
       "        9.48788198,  9.49736565,  9.50684932,  9.51633298,  9.52581665,\n",
       "        9.53530032,  9.54478398,  9.55426765,  9.56375132,  9.57323498,\n",
       "        9.58271865,  9.59220232,  9.60168599,  9.61116965,  9.62065332,\n",
       "        9.63013699,  9.63962065,  9.64910432,  9.65858799,  9.66807165,\n",
       "        9.67755532,  9.68703899,  9.69652266,  9.70600632,  9.71548999,\n",
       "        9.72497366,  9.73445732,  9.74394099,  9.75342466,  9.76290832,\n",
       "        9.77239199,  9.78187566,  9.79135933,  9.80084299,  9.81032666,\n",
       "        9.81981033,  9.82929399,  9.83877766,  9.84826133,  9.85774499,\n",
       "        9.86722866,  9.87671233,  9.886196  ,  9.89567966,  9.90516333,\n",
       "        9.914647  ,  9.92413066,  9.93361433,  9.943098  ,  9.95258166,\n",
       "        9.96206533,  9.971549  ,  9.98103267,  9.99051633, 10.        ])"
      ]
     },
     "execution_count": 61,
     "metadata": {},
     "output_type": "execute_result"
    }
   ],
   "source": [
    "l"
   ]
  },
  {
   "cell_type": "code",
   "execution_count": 62,
   "id": "c4fc710d",
   "metadata": {},
   "outputs": [],
   "source": [
    "import matplotlib.pyplot as plt"
   ]
  },
  {
   "cell_type": "code",
   "execution_count": 67,
   "id": "261f5096",
   "metadata": {},
   "outputs": [
    {
     "data": {
      "image/png": "[encoded data removed]",
      "text/plain": [
       "<Figure size 432x288 with 1 Axes>"
      ]
     },
     "metadata": {
      "needs_background": "light"
     },
     "output_type": "display_data"
    }
   ],
   "source": [
    "plt.hist(range(1000),l,ec='g',color='b')\n",
    "plt.show()"
   ]
  },
  {
   "cell_type": "code",
   "execution_count": 68,
   "id": "afca7415",
   "metadata": {},
   "outputs": [
    {
     "data": {
      "text/plain": [
       "[<matplotlib.lines.Line2D at 0x29b7bcdd670>]"
      ]
     },
     "execution_count": 68,
     "metadata": {},
     "output_type": "execute_result"
    },
    {
     "data": {
      "image/png": "[encoded data removed]",
      "text/plain": [
       "<Figure size 432x288 with 1 Axes>"
      ]
     },
     "metadata": {
      "needs_background": "light"
     },
     "output_type": "display_data"
    }
   ],
   "source": [
    "plt.plot(l)"
   ]
  },
  {
   "cell_type": "code",
   "execution_count": null,
   "id": "c8b1e430",
   "metadata": {},
   "outputs": [],
   "source": []
  }
 ],
 "metadata": {
  "kernelspec": {
   "display_name": "Python 3 (ipykernel)",
   "language": "python",
   "name": "python3"
  },
  "language_info": {
   "codemirror_mode": {
    "name": "ipython",
    "version": 3
   },
   "file_extension": ".py",
   "mimetype": "text/x-python",
   "name": "python",
   "nbconvert_exporter": "python",
   "pygments_lexer": "ipython3",
   "version": "3.9.6"
  }
 },
 "nbformat": 4,
 "nbformat_minor": 5
}
